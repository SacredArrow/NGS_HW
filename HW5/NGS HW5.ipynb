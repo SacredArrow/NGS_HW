{
 "cells": [
  {
   "cell_type": "code",
   "execution_count": 261,
   "metadata": {},
   "outputs": [],
   "source": [
    "from graphviz import Digraph\n",
    "from collections import defaultdict\n",
    "from Bio import SeqIO\n",
    "import time"
   ]
  },
  {
   "cell_type": "code",
   "execution_count": 179,
   "metadata": {},
   "outputs": [],
   "source": [
    "class Vertex:\n",
    "    in_edges = None\n",
    "    out_edges = None\n",
    "    label = None\n",
    "    id = None\n",
    "    def __init__(self, label):\n",
    "        self.in_edges = []\n",
    "        self.out_edges = []\n",
    "        self.label = label\n",
    "class Edge:\n",
    "    start = None\n",
    "    end = None\n",
    "    label = None\n",
    "    coverage = None\n",
    "    n_kmers = None # Сколько к-меров соответствуют ребру - нужно для правильного пересчета\n",
    "    def __init__(self,start, end, label, cov, kmers):\n",
    "        self.start = start\n",
    "        self.end = end\n",
    "        self.label = label\n",
    "        self.coverage = cov\n",
    "        self.n_kmers = kmers"
   ]
  },
  {
   "cell_type": "code",
   "execution_count": 223,
   "metadata": {},
   "outputs": [],
   "source": [
    "def get_rc(read):\n",
    "    compl = {\"A\" : \"T\", \"T\" : \"A\", \"G\" : \"C\", \"C\" : \"G\"}\n",
    "    res = []\n",
    "    for l in read:\n",
    "        res.append(compl[l])\n",
    "    return ''.join(res[::-1])"
   ]
  },
  {
   "cell_type": "code",
   "execution_count": 302,
   "metadata": {},
   "outputs": [],
   "source": [
    "class Graph:\n",
    "    ver_dict = None # Содержит вершины\n",
    "    \n",
    "    def __init__(self):\n",
    "        self.ver_dict = {}\n",
    "        \n",
    "    def render(self, label_type):\n",
    "        f = Digraph('de_bruijn_graph', filename='fsm.gv')\n",
    "        for _,v in self.ver_dict.items():\n",
    "            for edge in v.out_edges:\n",
    "                flag = True\n",
    "                label = \"\"\n",
    "                if \"label\" in label_type:\n",
    "                    label += \"Label: \" + edge.label + \" \"\n",
    "                    \n",
    "                if \"cov\" in label_type:\n",
    "                    label += \"Coverage: \" + str(edge.coverage) + \" \"\n",
    "                \n",
    "                if \"len\" in label_type:\n",
    "                    label += \"Length: \" + str(len(edge.label)) + \" \"\n",
    "                f.edge(edge.start.label, edge.end.label, label=label)\n",
    "        return f\n",
    "    \n",
    "    def print_edges(self, path):\n",
    "        used = defaultdict(bool)\n",
    "        f = open(path, \"w\")\n",
    "        labels = []\n",
    "        id = 1\n",
    "        for _,v in self.ver_dict.items():\n",
    "            for edge in v.out_edges:\n",
    "                flag = True\n",
    "                for label in labels:\n",
    "                    if edge.label == get_rc(label):\n",
    "                        flag = False\n",
    "                if not flag:\n",
    "                    continue\n",
    "                f.write(\"> \" + str(id) + \"\\n\")\n",
    "                f.write(edge.label + \"\\n\")\n",
    "                labels.append(edge.label)\n",
    "                id+=1\n",
    "        \n",
    "    \n",
    "    def add_edge(self, start, end, label, cov, kmers):\n",
    "        v = self.ver_dict.get(start)\n",
    "        if not v:\n",
    "            v = Vertex(start)\n",
    "            self.ver_dict[start] = v\n",
    "        for edge in v.out_edges:\n",
    "            if edge.end.label == end: # Be careful with adding differentially labeled edges - you shouldn't do it\n",
    "                edge.coverage += cov # Если ребро существует, увеличиваем покрытие\n",
    "                return\n",
    "        t = self.ver_dict.get(end)\n",
    "        if not t:\n",
    "            t = Vertex(end)\n",
    "            self.ver_dict[end] = t\n",
    "        e = Edge(v, t, label, cov, kmers) # Иначе создаем новое\n",
    "        v.out_edges.append(e)\n",
    "        t.in_edges.append(e)\n",
    "    \n",
    "    def delete_vertex(self, v):\n",
    "        for edge in v.in_edges:\n",
    "            edge.start.out_edges.remove(edge)\n",
    "            edge.end.in_edges.remove(edge)\n",
    "        for edge in v.out_edges:\n",
    "            edge.start.out_edges.remove(edge)\n",
    "            edge.end.in_edges.remove(edge)\n",
    "        self.ver_dict[v.label] = None\n",
    "#         del(v)\n",
    "        \n",
    "    def free_graph(self): # Освобождаем граф от лишних вершин - делаем это постфактум для удобства\n",
    "        for name in list(self.ver_dict.keys()):\n",
    "            if self.ver_dict[name] is None:\n",
    "                del(self.ver_dict[name])\n",
    "                \n",
    "    def condensate(self):\n",
    "        retry = True\n",
    "        while retry:\n",
    "            retry = False\n",
    "            for _,v in self.ver_dict.items():\n",
    "                if len(v.in_edges) == 1 and len(v.out_edges) == 1:\n",
    "                    retry = True\n",
    "                    in_edge = v.in_edges[0]\n",
    "                    out_edge = v.out_edges[0]\n",
    "                    start = in_edge.start\n",
    "                    end = out_edge.end\n",
    "                    l1 = in_edge.label\n",
    "                    l2 = out_edge.label\n",
    "                    t = len(v.label)\n",
    "                    new_label = l1+l2[t:]\n",
    "                    new_kmers = in_edge.n_kmers + out_edge.n_kmers # Пересчитываем среднее правильно\n",
    "                    new_cov = (in_edge.coverage*in_edge.n_kmers + out_edge.coverage*out_edge.n_kmers) / new_kmers\n",
    "                    self.add_edge(start.label, end.label, new_label, new_cov, new_kmers)\n",
    "                    self.delete_vertex(v)\n",
    "            self.free_graph()\n",
    "                \n",
    "    def remove_dead_ends(self, cov_threshold):\n",
    "        retry = True # Проходим несколько раз, чтобы не оставалось хвостов\n",
    "        while retry:\n",
    "            retry = False\n",
    "            for _,v in self.ver_dict.items():\n",
    "                if len(v.out_edges) == 0 or len(v.in_edges) == 0:\n",
    "                    flag = True # Если хоть кто-то превосходит, то не удаляем\n",
    "                    for edge in v.in_edges+v.out_edges:\n",
    "                        if edge.coverage > cov_threshold:\n",
    "                            flag = False\n",
    "                            break\n",
    "                    if flag:\n",
    "                        retry = True\n",
    "                        self.delete_vertex(v)\n",
    "            self.free_graph()\n",
    "        \n",
    "    def remove_bad_edges(self, cov_threshold, len_threshold):\n",
    "        for _,v in self.ver_dict.items():\n",
    "            for edge in v.in_edges + v.out_edges:\n",
    "                if edge.coverage < cov_threshold or len(edge.label) < len_threshold:\n",
    "                    edge.start.out_edges.remove(edge)\n",
    "                    edge.end.in_edges.remove(edge)"
   ]
  },
  {
   "cell_type": "code",
   "execution_count": 290,
   "metadata": {},
   "outputs": [],
   "source": [
    "def process_file(path, k, output, cov_threshold, format = \"fastq\", len_threshold = 0): # Кажется нецелесообразным выкидывать из-за длины\n",
    "    print(\"Assembly started...\")\n",
    "    st_time = time.time()\n",
    "    g = Graph()\n",
    "    for record in SeqIO.parse(path, format):\n",
    "        read = str(record.seq)\n",
    "        for i in range(len(read)-k):\n",
    "            start = read[i:i+k]\n",
    "            end = read[i+1:i+k+1]\n",
    "            label = read[i:i+k+1]\n",
    "            g.add_edge(start, end, label, 1, 1)\n",
    "        read = get_rc(read)\n",
    "        for i in range(len(read)-k):\n",
    "            start = read[i:i+k]\n",
    "            end = read[i+1:i+k+1]\n",
    "            label = read[i:i+k+1]\n",
    "            g.add_edge(start, end, label, 1, 1)\n",
    "    g.condensate()\n",
    "    g.remove_dead_ends(30)\n",
    "    g.condensate()\n",
    "    if cov_threshold != -1:\n",
    "        g.remove_bad_edges(cov_threshold, len_threshold)\n",
    "        g.condensate()\n",
    "    f = open(output+\".dot\", \"w\")\n",
    "    f.write(g.render(\"len cov\").source)\n",
    "    g.print_edges(output + \"_edges.fasta\")\n",
    "    print(\"Finished in\", time.time() - st_time, \"seconds.\")"
   ]
  },
  {
   "cell_type": "code",
   "execution_count": 275,
   "metadata": {},
   "outputs": [
    {
     "name": "stdout",
     "output_type": "stream",
     "text": [
      "Assembly started...\n",
      "Finished in 0.3442704677581787 seconds.\n"
     ]
    }
   ],
   "source": [
    "process_file(\"./5/ECOLI_IS220_QUAKE_1K_paired_reads.fasta\", 12,\"test\", 1, format = \"fasta\")"
   ]
  },
  {
   "cell_type": "code",
   "execution_count": 285,
   "metadata": {},
   "outputs": [
    {
     "name": "stdout",
     "output_type": "stream",
     "text": [
      "Assembly started...\n",
      "Finished in 0.4165382385253906 seconds.\n"
     ]
    }
   ],
   "source": [
    "process_file(\"./5/s_6.first1000.fastq\", 55, \"out1k\", 0)"
   ]
  },
  {
   "cell_type": "code",
   "execution_count": 286,
   "metadata": {},
   "outputs": [
    {
     "name": "stdout",
     "output_type": "stream",
     "text": [
      "Assembly started...\n",
      "Finished in 6.718225955963135 seconds.\n"
     ]
    }
   ],
   "source": [
    "process_file(\"./5/s_6.first10000.fastq\", 55, \"out10k\", 100)"
   ]
  },
  {
   "cell_type": "code",
   "execution_count": 280,
   "metadata": {},
   "outputs": [
    {
     "name": "stdout",
     "output_type": "stream",
     "text": [
      "Assembly started...\n",
      "Finished in 72.8049750328064 seconds.\n"
     ]
    }
   ],
   "source": [
    "process_file(\"./5/s_6.first100000.fastq\", 55, \"out100k\", 300)"
   ]
  },
  {
   "cell_type": "code",
   "execution_count": 303,
   "metadata": {},
   "outputs": [
    {
     "name": "stdout",
     "output_type": "stream",
     "text": [
      "Assembly started...\n",
      "Finished in 80.05368161201477 seconds.\n"
     ]
    }
   ],
   "source": [
    "process_file(\"./5/s_6.first100000.fastq\", 55, \"out100k_with_bad_edges\", -1) # Отбрасываем только хвостики"
   ]
  },
  {
   "cell_type": "markdown",
   "metadata": {},
   "source": [
    "В целом кажется, что отбрасывание всех плохих ребер эффективнее, так как отбрасывание хвостиков по сути является тем же самым, но с ограничениями. В итоге остается большое число неоднозначностей, как можно видеть на картинке.   \n",
    "P.S. Я так и не придумал, как выдавать только одну из комплиментарных последовательностей в случае, когда их остается больше двух. "
   ]
  },
  {
   "cell_type": "code",
   "execution_count": null,
   "metadata": {},
   "outputs": [],
   "source": []
  }
 ],
 "metadata": {
  "kernelspec": {
   "display_name": "Python 3",
   "language": "python",
   "name": "python3"
  },
  "language_info": {
   "codemirror_mode": {
    "name": "ipython",
    "version": 3
   },
   "file_extension": ".py",
   "mimetype": "text/x-python",
   "name": "python",
   "nbconvert_exporter": "python",
   "pygments_lexer": "ipython3",
   "version": "3.7.5"
  }
 },
 "nbformat": 4,
 "nbformat_minor": 2
}
